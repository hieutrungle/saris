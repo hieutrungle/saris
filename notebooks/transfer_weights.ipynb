{
 "cells": [
  {
   "cell_type": "code",
   "execution_count": 1,
   "metadata": {},
   "outputs": [],
   "source": [
    "import torch\n",
    "from saris.drl.agents import sac\n",
    "from tensordict import TensorDict, from_module, from_modules, TensorDictBase"
   ]
  },
  {
   "cell_type": "code",
   "execution_count": 2,
   "metadata": {},
   "outputs": [],
   "source": [
    "checkpoint_path = \"/home/hieule/research/saris/local_assets/logs/SAC__L_shape_static__wireless-sigmap-v0__trained/model_1200.pth\"\n",
    "ob_dim = 84\n",
    "ac_dim = 27"
   ]
  },
  {
   "cell_type": "code",
   "execution_count": 3,
   "metadata": {},
   "outputs": [],
   "source": [
    "qf1 = sac.SoftQNetwork(ob_dim, ac_dim).to(\"cuda\")\n",
    "qf2 = sac.SoftQNetwork(ob_dim, ac_dim).to(\"cuda\")\n",
    "qnet_params = from_modules(qf1, qf2, as_module=True)\n",
    "qnet_target_params = qnet_params.data.clone()"
   ]
  },
  {
   "cell_type": "code",
   "execution_count": 4,
   "metadata": {},
   "outputs": [],
   "source": [
    "checkpoint = torch.load(checkpoint_path, weights_only=False)"
   ]
  },
  {
   "cell_type": "code",
   "execution_count": 5,
   "metadata": {},
   "outputs": [],
   "source": [
    "qnet_params_state_dict = qnet_params.state_dict()\n",
    "qnet_target_params_state_dict = qnet_target_params.state_dict()\n",
    "\n",
    "for layer_name, layer_params in checkpoint['qnet_params'].items():\n",
    "    qnet_params_state_dict[layer_name] = layer_params\n",
    "    \n",
    "for layer_name, layer_params in checkpoint['qnet_target_params'].items():\n",
    "    qnet_target_params_state_dict[layer_name] = layer_params"
   ]
  },
  {
   "cell_type": "code",
   "execution_count": 6,
   "metadata": {},
   "outputs": [],
   "source": [
    "qnet_params.load_state_dict(qnet_params_state_dict)\n",
    "qnet_target_params = TensorDict(qnet_target_params)"
   ]
  },
  {
   "cell_type": "code",
   "execution_count": 7,
   "metadata": {},
   "outputs": [],
   "source": [
    "qnet_target_params.load_state_dict(qnet_target_params_state_dict)\n",
    "qnet_target_params = TensorDict(qnet_target_params)"
   ]
  },
  {
   "cell_type": "code",
   "execution_count": null,
   "metadata": {},
   "outputs": [],
   "source": []
  },
  {
   "cell_type": "code",
   "execution_count": 8,
   "metadata": {},
   "outputs": [],
   "source": [
    "checkpoint['qnet_params'] = qnet_params.state_dict()\n",
    "checkpoint['qnet_target_params'] = qnet_target_params.state_dict()\n",
    "\n",
    "torch.save(checkpoint, \"/home/hieule/research/saris/local_assets/logs/SAC__L_shape_static__wireless-sigmap-v0__trained/model_trained.pth\")"
   ]
  }
 ],
 "metadata": {
  "kernelspec": {
   "display_name": "saris_venv",
   "language": "python",
   "name": "python3"
  },
  "language_info": {
   "codemirror_mode": {
    "name": "ipython",
    "version": 3
   },
   "file_extension": ".py",
   "mimetype": "text/x-python",
   "name": "python",
   "nbconvert_exporter": "python",
   "pygments_lexer": "ipython3",
   "version": "3.10.14"
  }
 },
 "nbformat": 4,
 "nbformat_minor": 2
}
