{
 "cells": [
  {
   "cell_type": "code",
   "execution_count": 1,
   "metadata": {},
   "outputs": [],
   "source": [
    "import os\n",
    "\n",
    "os.environ[\"CUDA_VISIBLE_DEVICES\"] = \"0\"\n",
    "os.environ[\"TF_CPP_MIN_LOG_LEVEL\"] = \"3\"\n",
    "os.environ[\"TF_GPU_ALLOCATOR\"] = \"cuda_malloc_async\"  # to avoid memory fragmentation\n",
    "\n",
    "from saris import sigmap\n",
    "from sionna.channel import (\n",
    "    cir_to_ofdm_channel,\n",
    "    subcarrier_frequencies,\n",
    "    time_lag_discrete_time_channel,\n",
    "    cir_to_time_channel,\n",
    "    time_to_ofdm_channel,\n",
    ")\n",
    "import tensorflow as tf\n",
    "from saris.utils import utils\n",
    "from typing import Tuple, Optional\n",
    "import numpy as np\n",
    "import math"
   ]
  },
  {
   "cell_type": "code",
   "execution_count": 2,
   "metadata": {},
   "outputs": [],
   "source": [
    "def compute_rot_angle(pt1: list, pt2: list) -> Tuple[float, float, float]:\n",
    "    \"\"\"Compute the rotation angles for vector pt1 to pt2.\"\"\"\n",
    "    x = pt2[0] - pt1[0]\n",
    "    y = pt2[1] - pt1[1]\n",
    "    z = pt2[2] - pt1[2]\n",
    "\n",
    "    return cartesian2spherical(x, y, z)\n",
    "\n",
    "\n",
    "def cartesian2spherical(x: float, y: float, z: float) -> Tuple[float, float, float]:\n",
    "    r = math.sqrt(x**2 + y**2 + z**2)\n",
    "    theta = math.atan2(y, x)\n",
    "    phi = math.acos(z / r)\n",
    "    return r, theta, phi\n",
    "\n",
    "\n",
    "def spherical2cartesian(r: float, theta: float, phi: float) -> Tuple[float, float, float]:\n",
    "    x = r * math.sin(phi) * math.cos(theta)\n",
    "    y = r * math.sin(phi) * math.sin(theta)\n",
    "    z = r * math.cos(phi)\n",
    "    return x, y, z\n",
    "\n",
    "\n",
    "compute_scene_path = \"/home/hieule/research/saris/local_assets/blender/hallway_L_0/ceiling_idx/hallway.xml\"\n",
    "viz_scene_path = \"/home/hieule/research/saris/local_assets/blender/hallway_L_0/idx/hallway.xml\"\n",
    "sionna_config = utils.load_config(\"/home/hieule/research/saris/configs/sionna_L_multi_users.yaml\")\n",
    "\n",
    "ris_pos = sionna_config[\"ris_positions\"][0]\n",
    "tx_pos = sionna_config[\"tx_positions\"][0]\n",
    "r, theta, phi = compute_rot_angle(tx_pos, ris_pos)\n",
    "sionna_config[\"tx_orientations\"] = [[theta, math.pi / 2 - phi, 0.0]]"
   ]
  },
  {
   "cell_type": "code",
   "execution_count": 3,
   "metadata": {},
   "outputs": [],
   "source": [
    "sig_cmap = sigmap.engine.SignalCoverageMap(\n",
    "        sionna_config, compute_scene_path, viz_scene_path\n",
    "    )\n",
    "bandwidth = 20e6\n",
    "paths = sig_cmap.compute_paths()\n"
   ]
  },
  {
   "cell_type": "code",
   "execution_count": 4,
   "metadata": {},
   "outputs": [
    {
     "name": "stdout",
     "output_type": "stream",
     "text": [
      "l_min: -6, l_max: 26\n"
     ]
    },
    {
     "data": {
      "text/plain": [
       "TensorShape([1, 3, 2, 1, 16, 1, 33])"
      ]
     },
     "execution_count": 4,
     "metadata": {},
     "output_type": "execute_result"
    }
   ],
   "source": [
    "paths.normalize_delays = False\n",
    "cir = paths.cir()\n",
    "# a: [batch_size, num_rx, num_rx_ant, num_tx, num_tx_ant, max_num_paths, num_time_steps], tf.complex\n",
    "a, tau = cir\n",
    "maximum_delay_spread=1e-6 # 1us\n",
    "(l_min, l_max) = time_lag_discrete_time_channel(bandwidth, maximum_delay_spread)\n",
    "print(f\"l_min: {l_min}, l_max: {l_max}\")\n",
    "# [batch size, num_rx, num_rx_ant, num_tx, num_tx_ant, num_time_steps, l_max - l_min + 1], tf.complex\n",
    "channels: tf.Tensor = cir_to_time_channel(bandwidth, a, tau, l_min, l_max)\n",
    "channels.shape"
   ]
  },
  {
   "cell_type": "code",
   "execution_count": 6,
   "metadata": {},
   "outputs": [
    {
     "name": "stdout",
     "output_type": "stream",
     "text": [
      "c: [[[[[[[1.6809479e-05+0.j]]]]]\n",
      "\n",
      "\n",
      "\n",
      "\n",
      "  [[[[[4.9246821e-05+0.j]]]]]\n",
      "\n",
      "\n",
      "\n",
      "\n",
      "  [[[[[9.5863375e-05+0.j]]]]]]]; path_gains: [2.8255859e-10 2.4252496e-09 9.1897867e-09]\n"
     ]
    }
   ],
   "source": [
    "real_dtype = tau.dtype\n",
    "c = tf.reduce_mean(tf.reduce_sum(tf.square(tf.abs(channels)),\n",
    "                                         axis=6, keepdims=True),\n",
    "                           axis=(2,4,5), keepdims=True)\n",
    "path_gains = tf.squeeze(c, axis=(0, 2, 3, 4, 5, 6)).numpy()\n",
    "c = tf.complex(tf.sqrt(c), tf.constant(0., real_dtype))\n",
    "print(f\"c: {c}; path_gains: {path_gains}\")"
   ]
  },
  {
   "cell_type": "code",
   "execution_count": 27,
   "metadata": {},
   "outputs": [
    {
     "data": {
      "text/plain": [
       "-47.7510134647502"
      ]
     },
     "execution_count": 27,
     "metadata": {},
     "output_type": "execute_result"
    }
   ],
   "source": [
    "10*math.log10(1.6784123e-05)"
   ]
  },
  {
   "cell_type": "code",
   "execution_count": 7,
   "metadata": {},
   "outputs": [
    {
     "data": {
      "text/plain": [
       "<tf.Tensor: shape=(3,), dtype=float32, numpy=array([2.8255859e-10, 2.4252496e-09, 9.1897867e-09], dtype=float32)>"
      ]
     },
     "execution_count": 7,
     "metadata": {},
     "output_type": "execute_result"
    }
   ],
   "source": [
    "# [num_rx, num_rx_ant, num_tx, num_tx_ant, num_time_steps], tf.complex\n",
    "h_time_sum_power = tf.reduce_sum(tf.abs(channels[0]) ** 2, axis=-1)\n",
    "# [num_rx, num_rx_ant]\n",
    "h_time_avg_power = tf.reduce_mean(h_time_sum_power, axis=(1,2, 3, 4))\n",
    "h_time_avg_power"
   ]
  },
  {
   "cell_type": "code",
   "execution_count": 7,
   "metadata": {},
   "outputs": [
    {
     "data": {
      "text/plain": [
       "TensorShape([1, 3, 2, 1, 16, 1, 73])"
      ]
     },
     "execution_count": 7,
     "metadata": {},
     "output_type": "execute_result"
    }
   ],
   "source": [
    "channels.shape"
   ]
  },
  {
   "cell_type": "code",
   "execution_count": 8,
   "metadata": {},
   "outputs": [
    {
     "ename": "TypeError",
     "evalue": "`x` and `y` must have the same dtype, got tf.complex64 != tf.float32.",
     "output_type": "error",
     "traceback": [
      "\u001b[0;31m---------------------------------------------------------------------------\u001b[0m",
      "\u001b[0;31mTypeError\u001b[0m                                 Traceback (most recent call last)",
      "Cell \u001b[0;32mIn[8], line 1\u001b[0m\n\u001b[0;32m----> 1\u001b[0m channels_normalized_1 \u001b[38;5;241m=\u001b[39m \u001b[43mchannels\u001b[49m\u001b[43m \u001b[49m\u001b[38;5;241;43m/\u001b[39;49m\u001b[43m \u001b[49m\u001b[43mtf\u001b[49m\u001b[38;5;241;43m.\u001b[39;49m\u001b[43msqrt\u001b[49m\u001b[43m(\u001b[49m\u001b[43mh_time_avg_power\u001b[49m\u001b[43m[\u001b[49m\u001b[38;5;28;43;01mNone\u001b[39;49;00m\u001b[43m,\u001b[49m\u001b[43m \u001b[49m\u001b[38;5;241;43m.\u001b[39;49m\u001b[38;5;241;43m.\u001b[39;49m\u001b[38;5;241;43m.\u001b[39;49m\u001b[43m,\u001b[49m\u001b[43m \u001b[49m\u001b[38;5;28;43;01mNone\u001b[39;49;00m\u001b[43m,\u001b[49m\u001b[43m \u001b[49m\u001b[38;5;28;43;01mNone\u001b[39;49;00m\u001b[43m,\u001b[49m\u001b[43m \u001b[49m\u001b[38;5;28;43;01mNone\u001b[39;49;00m\u001b[43m,\u001b[49m\u001b[43m \u001b[49m\u001b[38;5;28;43;01mNone\u001b[39;49;00m\u001b[43m,\u001b[49m\u001b[43m \u001b[49m\u001b[38;5;28;43;01mNone\u001b[39;49;00m\u001b[43m]\u001b[49m\u001b[43m)\u001b[49m\n",
      "File \u001b[0;32m~/research/saris_venv/lib/python3.10/site-packages/tensorflow/python/util/traceback_utils.py:153\u001b[0m, in \u001b[0;36mfilter_traceback.<locals>.error_handler\u001b[0;34m(*args, **kwargs)\u001b[0m\n\u001b[1;32m    151\u001b[0m \u001b[38;5;28;01mexcept\u001b[39;00m \u001b[38;5;167;01mException\u001b[39;00m \u001b[38;5;28;01mas\u001b[39;00m e:\n\u001b[1;32m    152\u001b[0m   filtered_tb \u001b[38;5;241m=\u001b[39m _process_traceback_frames(e\u001b[38;5;241m.\u001b[39m__traceback__)\n\u001b[0;32m--> 153\u001b[0m   \u001b[38;5;28;01mraise\u001b[39;00m e\u001b[38;5;241m.\u001b[39mwith_traceback(filtered_tb) \u001b[38;5;28;01mfrom\u001b[39;00m \u001b[38;5;28;01mNone\u001b[39;00m\n\u001b[1;32m    154\u001b[0m \u001b[38;5;28;01mfinally\u001b[39;00m:\n\u001b[1;32m    155\u001b[0m   \u001b[38;5;28;01mdel\u001b[39;00m filtered_tb\n",
      "File \u001b[0;32m~/research/saris_venv/lib/python3.10/site-packages/tensorflow/python/ops/math_ops.py:1418\u001b[0m, in \u001b[0;36m_truediv_python3\u001b[0;34m(x, y, name)\u001b[0m\n\u001b[1;32m   1416\u001b[0m y_dtype \u001b[38;5;241m=\u001b[39m y\u001b[38;5;241m.\u001b[39mdtype\u001b[38;5;241m.\u001b[39mbase_dtype\n\u001b[1;32m   1417\u001b[0m \u001b[38;5;28;01mif\u001b[39;00m x_dtype \u001b[38;5;241m!=\u001b[39m y_dtype:\n\u001b[0;32m-> 1418\u001b[0m   \u001b[38;5;28;01mraise\u001b[39;00m \u001b[38;5;167;01mTypeError\u001b[39;00m(\u001b[38;5;124mf\u001b[39m\u001b[38;5;124m\"\u001b[39m\u001b[38;5;124m`x` and `y` must have the same dtype, \u001b[39m\u001b[38;5;124m\"\u001b[39m\n\u001b[1;32m   1419\u001b[0m                   \u001b[38;5;124mf\u001b[39m\u001b[38;5;124m\"\u001b[39m\u001b[38;5;124mgot \u001b[39m\u001b[38;5;132;01m{\u001b[39;00mx_dtype\u001b[38;5;132;01m!r}\u001b[39;00m\u001b[38;5;124m != \u001b[39m\u001b[38;5;132;01m{\u001b[39;00my_dtype\u001b[38;5;132;01m!r}\u001b[39;00m\u001b[38;5;124m.\u001b[39m\u001b[38;5;124m\"\u001b[39m)\n\u001b[1;32m   1420\u001b[0m \u001b[38;5;28;01mtry\u001b[39;00m:\n\u001b[1;32m   1421\u001b[0m   dtype \u001b[38;5;241m=\u001b[39m _TRUEDIV_TABLE[x_dtype]\n",
      "\u001b[0;31mTypeError\u001b[0m: `x` and `y` must have the same dtype, got tf.complex64 != tf.float32."
     ]
    }
   ],
   "source": [
    "channels_normalized_1 = channels / tf.sqrt(h_time_avg_power[None, ..., None, None, None, None, None])"
   ]
  },
  {
   "cell_type": "code",
   "execution_count": 9,
   "metadata": {},
   "outputs": [],
   "source": [
    "channels_normalized = cir_to_time_channel(bandwidth, a, tau, l_min, l_max, normalize=True)"
   ]
  },
  {
   "cell_type": "code",
   "execution_count": 18,
   "metadata": {},
   "outputs": [
    {
     "data": {
      "text/plain": [
       "<tf.Tensor: shape=(3, 2), dtype=float32, numpy=\n",
       "array([[1.1298661 , 0.8701341 ],\n",
       "       [1.1529571 , 0.84704286],\n",
       "       [1.1243306 , 0.8756695 ]], dtype=float32)>"
      ]
     },
     "execution_count": 18,
     "metadata": {},
     "output_type": "execute_result"
    }
   ],
   "source": [
    "channels_normalized\n",
    "h_time_sum_power = tf.reduce_sum(tf.abs(channels_normalized[0]) ** 2, axis=-1)\n",
    "# [num_rx, num_rx_ant]\n",
    "h_time_avg_power = tf.reduce_mean(h_time_sum_power, axis=(2, 3, 4))\n",
    "h_time_avg_power"
   ]
  },
  {
   "cell_type": "code",
   "execution_count": null,
   "metadata": {},
   "outputs": [],
   "source": []
  }
 ],
 "metadata": {
  "kernelspec": {
   "display_name": "saris_venv",
   "language": "python",
   "name": "python3"
  },
  "language_info": {
   "codemirror_mode": {
    "name": "ipython",
    "version": 3
   },
   "file_extension": ".py",
   "mimetype": "text/x-python",
   "name": "python",
   "nbconvert_exporter": "python",
   "pygments_lexer": "ipython3",
   "version": "3.10.14"
  }
 },
 "nbformat": 4,
 "nbformat_minor": 2
}
